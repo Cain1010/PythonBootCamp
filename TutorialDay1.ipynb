{
 "cells": [
  {
   "cell_type": "markdown",
   "metadata": {},
   "source": [
    "# Day one of Python Bootcamp"
   ]
  },
  {
   "cell_type": "markdown",
   "metadata": {},
   "source": [
    "The goal of this tutorial is to introduce you to input/output, basic math, variables, data types, lists, and searching for help in solving your problem."
   ]
  },
  {
   "cell_type": "markdown",
   "metadata": {},
   "source": [
    "## Introduction to Programming\n"
   ]
  },
  {
   "cell_type": "markdown",
   "metadata": {},
   "source": [
    "Add the tutorial stuff that we want to go over first here.  From the bootcamp agenda we'd have sections about each of the topics above, which they'd need to do the pizza example down below (This is just placeholder text.  If we decide to actually go this route when we're teaching them, we can flesh it out beforehand)"
   ]
  },
  {
   "cell_type": "markdown",
   "metadata": {},
   "source": [
    "### Input and Output"
   ]
  },
  {
   "cell_type": "markdown",
   "metadata": {},
   "source": [
    "### Using python as a calculator"
   ]
  },
  {
   "cell_type": "markdown",
   "metadata": {},
   "source": [
    "### Variables"
   ]
  },
  {
   "cell_type": "markdown",
   "metadata": {},
   "source": [
    "### Data Types"
   ]
  },
  {
   "cell_type": "markdown",
   "metadata": {},
   "source": [
    "### Lists"
   ]
  },
  {
   "cell_type": "markdown",
   "metadata": {},
   "source": [
    "### Show example of googling problem"
   ]
  },
  {
   "cell_type": "markdown",
   "metadata": {},
   "source": [
    "## Program to optimize ordering pizza"
   ]
  },
  {
   "cell_type": "markdown",
   "metadata": {},
   "source": [
    "The problem we want you to solve is to order enough pizza's for a group of people.  There are 3 options for ordering: <br><hr>\n",
    "Large: serves 7, costs \\\\$14.68, diameter 20 in<br>\n",
    "Medium: serves 3, costs  \\\\$11.48, diameter 14 in<br>\n",
    "Small: serves 1, costs  \\\\$7.28, diameter 10 in<br>\n",
    "<hr>\n",
    "\n"
   ]
  },
  {
   "cell_type": "markdown",
   "metadata": {},
   "source": [
    "### 0) Initialize your constants"
   ]
  },
  {
   "cell_type": "code",
   "execution_count": 1,
   "metadata": {},
   "outputs": [],
   "source": [
    "#initialize costs of pizzas\n"
   ]
  },
  {
   "cell_type": "code",
   "execution_count": null,
   "metadata": {},
   "outputs": [],
   "source": [
    "#initialize size of pizzas\n"
   ]
  },
  {
   "cell_type": "markdown",
   "metadata": {},
   "source": [
    "### 1) Calculate the number of pizza's you need to get for X number of guests"
   ]
  },
  {
   "cell_type": "markdown",
   "metadata": {},
   "source": []
  },
  {
   "cell_type": "code",
   "execution_count": null,
   "metadata": {},
   "outputs": [],
   "source": [
    "#Get input on the number of guests, make sure it's an integer\n"
   ]
  },
  {
   "cell_type": "code",
   "execution_count": null,
   "metadata": {},
   "outputs": [],
   "source": [
    "#Find number of large pizzas we need\n"
   ]
  },
  {
   "cell_type": "code",
   "execution_count": null,
   "metadata": {},
   "outputs": [],
   "source": [
    "#Find number of Med pizzas we need\n"
   ]
  },
  {
   "cell_type": "code",
   "execution_count": null,
   "metadata": {},
   "outputs": [],
   "source": [
    "#find number of Small pizzas we need\n"
   ]
  },
  {
   "cell_type": "markdown",
   "metadata": {},
   "source": [
    "### 2) Calculate how much the pizza is going to cost"
   ]
  },
  {
   "cell_type": "code",
   "execution_count": null,
   "metadata": {},
   "outputs": [],
   "source": [
    "#Take the sum of the pizzas X their price\n"
   ]
  },
  {
   "cell_type": "markdown",
   "metadata": {},
   "source": [
    "### 2.1) bonus: calculate the tip"
   ]
  },
  {
   "cell_type": "code",
   "execution_count": null,
   "metadata": {},
   "outputs": [],
   "source": [
    "#Your code here\n"
   ]
  },
  {
   "cell_type": "markdown",
   "metadata": {},
   "source": [
    "### 3) Calculate the total area of pizza, and what area of pizza you have per guest"
   ]
  },
  {
   "cell_type": "code",
   "execution_count": null,
   "metadata": {},
   "outputs": [],
   "source": [
    "#Calculate the area of all your large pizzas\n"
   ]
  },
  {
   "cell_type": "code",
   "execution_count": null,
   "metadata": {},
   "outputs": [],
   "source": [
    "#Calculate the area of all your medium pizzas\n"
   ]
  },
  {
   "cell_type": "code",
   "execution_count": null,
   "metadata": {},
   "outputs": [],
   "source": [
    "#Calculate the area of all your small pizzas\n"
   ]
  },
  {
   "cell_type": "code",
   "execution_count": null,
   "metadata": {},
   "outputs": [],
   "source": [
    "#Find the sum of the areas of your pizzas\n"
   ]
  },
  {
   "cell_type": "code",
   "execution_count": 2,
   "metadata": {},
   "outputs": [
    {
     "name": "stdout",
     "output_type": "stream",
     "text": [
      "Input the number of guests to be fed: 12\n",
      "Number of Large pizzas:  1\n",
      "Number of Medium pizzas:  1\n",
      "Number of Small pizzas:  2\n",
      "Cost: $ 40.72\n"
     ]
    }
   ],
   "source": [
    "\n",
    "\n",
    "#%%\n",
    "'''The plan for teaching it it to create an outline of comments for each of the \n",
    "steps that need to be solved, then go ahead and write the code quickly to show \n",
    "them how it can be solved.  Maybe part 3 can be something that we have them do?\n",
    "'''\n",
    "\n",
    "#Get input on the number of guests, make sure it's an integer\n",
    "guests = input('Input the number of guests to be fed: ')\n",
    "guests = int(guests)\n",
    "\n",
    "#initialize costs of pizzas\n",
    "LargeCost = 14.68\n",
    "MedCost = 11.48\n",
    "SmallCost = 7.28\n",
    "\n",
    "#initialize size of pizzas\n",
    "LD = 20\n",
    "MD = 14\n",
    "SD = 10\n",
    "#Find number of large pizzas we need\n",
    "NumLarge = guests // 7\n",
    "\n",
    "#Find number of Med pizzas we need\n",
    "NumMed = (guests-NumLarge*7) // 3\n",
    "\n",
    "#find number of Small pizzas we need\n",
    "NumSmall = guests-NumLarge*7-NumMed*3\n",
    "\n",
    "#Take the sum of the pizzas X their price\n",
    "cost = NumLarge*LargeCost+NumMed*MedCost+NumSmall*SmallCost\n",
    "\n",
    "#print out the results\n",
    "print('Number of Large pizzas: ',NumLarge)\n",
    "print('Number of Medium pizzas: ',NumMed)\n",
    "print('Number of Small pizzas: ',NumSmall)\n",
    "print('Cost: $',cost)"
   ]
  },
  {
   "cell_type": "markdown",
   "metadata": {},
   "source": [
    "### For Loops"
   ]
  },
  {
   "cell_type": "markdown",
   "metadata": {},
   "source": [
    "### While Loops"
   ]
  },
  {
   "cell_type": "markdown",
   "metadata": {},
   "source": [
    "### If/Else Statements"
   ]
  },
  {
   "cell_type": "code",
   "execution_count": null,
   "metadata": {},
   "outputs": [],
   "source": []
  }
 ],
 "metadata": {
  "kernelspec": {
   "display_name": "Python 3",
   "language": "python",
   "name": "python3"
  },
  "language_info": {
   "codemirror_mode": {
    "name": "ipython",
    "version": 3
   },
   "file_extension": ".py",
   "mimetype": "text/x-python",
   "name": "python",
   "nbconvert_exporter": "python",
   "pygments_lexer": "ipython3",
   "version": "3.7.4"
  }
 },
 "nbformat": 4,
 "nbformat_minor": 2
}
